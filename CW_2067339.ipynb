{
 "cells": [
  {
   "cell_type": "code",
   "execution_count": 1,
   "metadata": {
    "scrolled": true
   },
   "outputs": [
    {
     "name": "stdout",
     "output_type": "stream",
     "text": [
      "Populating the interactive namespace from numpy and matplotlib\n"
     ]
    },
    {
     "data": {
      "text/html": [
       "<div>\n",
       "<style scoped>\n",
       "    .dataframe tbody tr th:only-of-type {\n",
       "        vertical-align: middle;\n",
       "    }\n",
       "\n",
       "    .dataframe tbody tr th {\n",
       "        vertical-align: top;\n",
       "    }\n",
       "\n",
       "    .dataframe thead th {\n",
       "        text-align: right;\n",
       "    }\n",
       "</style>\n",
       "<table border=\"1\" class=\"dataframe\">\n",
       "  <thead>\n",
       "    <tr style=\"text-align: right;\">\n",
       "      <th></th>\n",
       "      <th>Teen Birth Rate</th>\n",
       "      <th>Violent Crime Rate</th>\n",
       "      <th>Precentage Smokers</th>\n",
       "    </tr>\n",
       "    <tr>\n",
       "      <th></th>\n",
       "      <th></th>\n",
       "      <th></th>\n",
       "      <th></th>\n",
       "    </tr>\n",
       "  </thead>\n",
       "  <tbody>\n",
       "    <tr>\n",
       "      <th>Mean</th>\n",
       "      <td>41.50</td>\n",
       "      <td>409.59</td>\n",
       "      <td>16.92</td>\n",
       "    </tr>\n",
       "    <tr>\n",
       "      <th>Minimum</th>\n",
       "      <td>15.00</td>\n",
       "      <td>127.00</td>\n",
       "      <td>11.00</td>\n",
       "    </tr>\n",
       "    <tr>\n",
       "      <th>Maximum</th>\n",
       "      <td>77.00</td>\n",
       "      <td>809.00</td>\n",
       "      <td>21.00</td>\n",
       "    </tr>\n",
       "    <tr>\n",
       "      <th>Standard Deviation</th>\n",
       "      <td>14.56</td>\n",
       "      <td>166.17</td>\n",
       "      <td>2.37</td>\n",
       "    </tr>\n",
       "  </tbody>\n",
       "</table>\n",
       "</div>"
      ],
      "text/plain": [
       "                    Teen Birth Rate  Violent Crime Rate  Precentage Smokers\n",
       "                                                                           \n",
       "Mean                          41.50              409.59               16.92\n",
       "Minimum                       15.00              127.00               11.00\n",
       "Maximum                       77.00              809.00               21.00\n",
       "Standard Deviation            14.56              166.17                2.37"
      ]
     },
     "metadata": {},
     "output_type": "display_data"
    },
    {
     "name": "stdout",
     "output_type": "stream",
     "text": [
      "\n",
      "The 95% confidence interval for precentage smokers is[16.35 17.5]\n",
      "\n",
      "The 95% confindence interval for precentage smokers shows that the we are 95% confindent that the data is between[ 16.35 17.50 ]\n"
     ]
    }
   ],
   "source": [
    "# CELL1 – 10 marks\n",
    "################################################################################################################################\n",
    "#  libraries needed for the coursework\n",
    "%pylab inline\n",
    "import pandas as pd\n",
    "from pandas import Series, DataFrame\n",
    "from scipy import stats\n",
    "import statsmodels.api as sm\n",
    "################################################################################################################################\n",
    "health2017 = pd.read_table(\"./2017health.txt\")\n",
    "\n",
    "tbr = health2017['Teen Birth Rate']\n",
    "vcr = health2017['Violent Crime Rate']\n",
    "ps = health2017['Percentage Smokers']\n",
    "\n",
    "\n",
    "ps_s, ps_me = std(ps), mean(ps) \n",
    "\n",
    "CI = 1.96*ps_s/sqrt(len(ps))\n",
    "\n",
    "tabel = {\n",
    "    '': ['Mean', 'Minimum', 'Maximum', 'Standard Deviation'],\n",
    "    'Teen Birth Rate': [ round(mean(tbr),2), round(min(tbr), 2), round(max(tbr), 2), round(std(tbr), 2) ],\n",
    "    'Violent Crime Rate': [ round(mean(vcr), 2), round(min(vcr), 2), round(max(vcr), 2), round(std(vcr), 2) ],\n",
    "    'Precentage Smokers': [round(ps_me, 2), round(min(ps), 2), round(max(ps), 2), round(ps_s, 2) ]\n",
    "}\n",
    "\n",
    "\n",
    "Tabular_structure = pd.DataFrame(tabel)\n",
    "Tabular_structure.set_index('', inplace=True)\n",
    "\n",
    "display(Tabular_structure)\n",
    "print('')\n",
    "print('The 95% confidence interval for precentage smokers is' '[' + str(round(ps_me-CI, 2)), str(round(ps_me+CI, 2)) + ']' )\n",
    "print('')\n",
    "print('The 95% confindence interval for precentage smokers shows that the we are 95% confindent that the data is between' '[', \"%.2f\" %(ps_me-CI), \"%.2f\" %(ps_me+CI), ']' )"
   ]
  },
  {
   "cell_type": "code",
   "execution_count": 2,
   "metadata": {},
   "outputs": [
    {
     "data": {
      "image/png": "[encoded data removed]",
      "text/plain": [
       "<Figure size 864x432 with 1 Axes>"
      ]
     },
     "metadata": {
      "needs_background": "light"
     },
     "output_type": "display_data"
    }
   ],
   "source": [
    "# CELL2 – 10 marks\n",
    "YPL = health2017.loc[:, ['County', 'Years of Potential Life Lost Rate']]\n",
    "\n",
    "nf = YPL.loc[YPL[\"County\"].isin(['Duval', 'Alachua', 'Leon', 'Flagler', 'Marion'])]\n",
    "cf = YPL.loc[YPL[\"County\"].isin(['Orange', 'Polk', 'Hillsborough', 'Pinellas', 'Brevard'])]\n",
    "sf = YPL.loc[YPL[\"County\"].isin(['Miami-Dade', 'Broward', 'Lee', 'Palm Beach', 'Sarasota'])]\n",
    "\n",
    "nf_ypl = nf['Years of Potential Life Lost Rate']\n",
    "cf_ypl = cf['Years of Potential Life Lost Rate']\n",
    "sf_ypl = sf['Years of Potential Life Lost Rate']\n",
    "\n",
    "nf_me = mean(nf_ypl)\n",
    "cf_me = mean(cf_ypl)\n",
    "sf_me = mean(sf_ypl)\n",
    "\n",
    "nf_ci = 1.96*std(nf_ypl)/sqrt(len(nf_ypl))\n",
    "cf_ci = 1.96*std(cf_ypl)/sqrt(len(cf_ypl))\n",
    "sf_ci = 1.96*std(sf_ypl)/sqrt(len(sf_ypl))\n",
    "\n",
    "figure(figsize(12,6))\n",
    "N=3\n",
    "ind = arange(N)\n",
    "width = 0.5\n",
    "bar(ind, [nf_me, cf_me, sf_me], width, color=['r', 'b', 'g'], yerr=[nf_ci, cf_ci, sf_ci], capsize=5)\n",
    "xticklabels = ['North Florida', 'Central Florida', 'South Florida']\n",
    "xtickloc = ind\n",
    "xticks(xtickloc, xticklabels, rotation='horizontal', fontsize=20)\n",
    "title('Years of Potential Life Lost Rate', fontsize=30)\n",
    "capsize=5\n",
    "show()\n",
    "\n"
   ]
  },
  {
   "cell_type": "code",
   "execution_count": 3,
   "metadata": {},
   "outputs": [
    {
     "name": "stdout",
     "output_type": "stream",
     "text": [
      "Regression model: YPLLR = 36.09 * Teen Birth Rate - 225.19 * Precemtage Smokers + 2503.14\n",
      "\n",
      "Firstly when doing the normality test on both models using the shapirowilt test we can see that Model A is normal \n",
      "and Model B is not normal. Normality test for Model A = 0.17 normaility test for Model B 0.03\n",
      "After learning that Model B is not normal i had to do a alternative test. The name of the alternative test i used is \n",
      "manwhitney. The manwhitney test indicated that there is no signifigant difference between the two models. The output of\n",
      "the manwhitney test is 0.052 since the value is slighly more than 0.05 it indicates no signiigant difference\n",
      "\n",
      "The data analytical team should use Model A instead of Model B even though the manwhitney test indictaes no signifigant\n",
      "differnce between the two models, the MAE of Model A which is 948.46 is much lower than the MAE of Model B which is 1219.42\n",
      "indicating that MAE has a lower mean absolute error.\n"
     ]
    }
   ],
   "source": [
    "# CELL3 – 10 marks\n",
    "comb = health2017[['Teen Birth Rate', 'Percentage Smokers']]\n",
    "ypll = YPL['Years of Potential Life Lost Rate']\n",
    "\n",
    "comb = sm.add_constant(comb)\n",
    "results=sm.OLS(ypll, comb).fit()\n",
    "const=results.params[0]\n",
    "coef_tbr=results.params[1]\n",
    "coef_ps=results.params[2]\n",
    "\n",
    "modelA_pred_ypllr = 60.6*tbr+5297.06\n",
    "modelB_pred_ypllr = 1.36*vcr+7254.3\n",
    "\n",
    "model_a_error=abs(modelA_pred_ypllr - ypll)\n",
    "model_b_error=abs(modelB_pred_ypllr - ypll)\n",
    "\n",
    "A_MAE=mean(model_a_error)\n",
    "B_MAE=mean(model_b_error)\n",
    "\n",
    "norm_A = stats.shapiro(tbr)[1]\n",
    "norm_B = stats.shapiro(vcr)[1]\n",
    "altTesta = stats.mannwhitneyu(model_a_error,model_b_error, alternative='two-sided')\n",
    "\n",
    "print('Regression model: YPLLR = ' + str(round(coef_tbr,2)) + ' * Teen Birth Rate - ' + str(round(coef_ps, 2)) + ' * Precemtage Smokers + ' + str(round(const, 2)))\n",
    "print('')\n",
    "print('Firstly when doing the normality test on both models using the shapirowilt test we can see that Model A is normal ')\n",
    "print('and Model B is not normal. Normality test for Model A = ' + str(round(norm_A, 2)) + ' normaility test for Model B ' + str(round(norm_B, 2)))\n",
    "print('After learning that Model B is not normal i had to do a alternative test. The name of the alternative test i used is ' )\n",
    "print('manwhitney. The manwhitney test indicated that there is no signifigant difference between the two models. The output of')\n",
    "print('the manwhitney test is '+ str(round(altTesta[1], 3)) + ' since the value is slighly more than 0.05 it indicates no signiigant difference')\n",
    "print('')\n",
    "print('The data analytical team should use Model A instead of Model B even though the manwhitney test indictaes no signifigant')\n",
    "print('differnce between the two models, the MAE of Model A which is '+ str(round(A_MAE, 2)) + \" is much lower than the MAE of Model B which is \" + str(round(B_MAE, 2)))\n",
    "print('indicating that MAE has a lower mean absolute error.')\n",
    "\n"
   ]
  },
  {
   "cell_type": "code",
   "execution_count": 4,
   "metadata": {},
   "outputs": [
    {
     "data": {
      "image/png": "[encoded data removed]",
      "text/plain": [
       "<Figure size 720x432 with 1 Axes>"
      ]
     },
     "metadata": {
      "needs_background": "light"
     },
     "output_type": "display_data"
    },
    {
     "data": {
      "image/png": "[encoded data removed]",
      "text/plain": [
       "<Figure size 720x432 with 1 Axes>"
      ]
     },
     "metadata": {
      "needs_background": "light"
     },
     "output_type": "display_data"
    },
    {
     "name": "stdout",
     "output_type": "stream",
     "text": [
      "The similiarity score is : 0.11\n",
      "The similiarity socre shows that distrubution of pixels of the outside roi and inside roi are similar as the similarity score (0.11) is closer to 0.\n"
     ]
    }
   ],
   "source": [
    "# CELL4 – 10 marks\n",
    "img=imread(\"Model/m1.png\")*255 \n",
    "img_ar = np.array(img) \n",
    "\n",
    "drawcircle= Circle((256,256), 150, color='r', alpha=0.25) # is a circle that represents a roi  \n",
    "\n",
    "x, y= np.ogrid[:512, :512]\n",
    "center = [256, 256]\n",
    "radius = 150\n",
    "\n",
    "d_f_c = np.sqrt((x - center[0])**2 + (y-center[1])**2)\n",
    "mask = d_f_c <= radius #\n",
    "#The mask variable shows true and false values. False means its outside the mask true meaning its inside but the x and y values \n",
    "#for all the different true and false values is how you find the inside and outside roi. as the x and y for the the \n",
    "#masked image are the same as a normal image. \n",
    "\n",
    "a, b, out_roi, in_roi = -1, -1, [], []\n",
    "for x in mask:\n",
    "    a = a+1\n",
    "    for y in x:\n",
    "        b = b+1\n",
    "        if b == 512: # getting the values using the mask the mask is used as the coordinates.  \n",
    "            b = 0\n",
    "        if y == False:\n",
    "            out_roi.append(img_ar[a,b])\n",
    "        elif y == True:\n",
    "            in_roi.append(img_ar[a,b])     \n",
    "\n",
    "bins = arange(0, 256, 1)\n",
    "figure(figsize(10,6))\n",
    "hist(out_roi, bins, density=True, color='r')\n",
    "counts,bins,bars = hist(out_roi, bins, density=True, color='r')\n",
    "xlim(0, 260)\n",
    "xticks(arange(0, 280, 50)) # making the histograms\n",
    "ylabel(\"Distribution of Pixels\", fontsize = 16)\n",
    "xlabel(\"Grayscale Value\", fontsize = 16)\n",
    "title(\"Outside-Roi\", fontsize = 18)\n",
    "show()\n",
    "\n",
    "\n",
    "figure(figsize(10, 6))\n",
    "hist(in_roi, bins, density=True, color='b')\n",
    "counts1,bins1,bars1 = hist(in_roi, bins, density=True, color='b')\n",
    "xlim(0, 260) \n",
    "xticks(arange(0, 280, 50))\n",
    "ylabel(\"Distribution of Pixels\", fontsize = 16)\n",
    "xlabel(\"Grayscale Value\", fontsize = 16)\n",
    "title(\"Inside-Roi\", fontsize = 18)\n",
    "show()\n",
    "\n",
    "np_a1 = numpy.array(counts)\n",
    "np_a2 = numpy.array(counts1)\n",
    "\n",
    "ed = np.linalg.norm(np_a1-np_a2) # finding the elucidean distance. \n",
    "print(\"The similiarity score is : \"+ str(round(ed, 2)))\n",
    "print(\"The similiarity socre shows that distrubution of pixels of the outside roi and inside roi are similar as the similarity score (0.11) is closer to 0.\")"
   ]
  },
  {
   "cell_type": "code",
   "execution_count": 5,
   "metadata": {},
   "outputs": [
    {
     "name": "stdout",
     "output_type": "stream",
     "text": [
      "Pearson linear correlation coefficient  0.81\n",
      "The r value shows that this is a strong postive correlation meaning that the higher the average pixel intensity the higher the overall image quality\n"
     ]
    },
    {
     "data": {
      "image/png": "[encoded data removed]",
      "text/plain": [
       "<Figure size 720x432 with 1 Axes>"
      ]
     },
     "metadata": {
      "needs_background": "light"
     },
     "output_type": "display_data"
    }
   ],
   "source": [
    "# CELL5 – 10 marks\n",
    "def finding_mask(x, y, radius, center):\n",
    "    d_f_c = np.sqrt((x - center[0])**2 + (y-center[1])**2) # finds all the items inside of the roi using radius\n",
    "    mask = d_f_c <= radius\n",
    "    return mask\n",
    "\n",
    "def get_value(masks, img_ar):\n",
    "    a, b, in_roi = -1, -1, []\n",
    "    for x in masks: #using coordinates gets the posistion of all the grey scale values inside the mask.\n",
    "        a = a+1\n",
    "        for y in x: #  coordinates are gotten using the mask\n",
    "            b = b+1\n",
    "            if b == 512:\n",
    "                b = 0\n",
    "            if y == True:\n",
    "                in_roi.append(img_ar[a,b])\n",
    "    return in_roi\n",
    "\n",
    "def get_mean(pl):\n",
    "    n = 10\n",
    "    sp = 1\n",
    "    me=[]\n",
    "    for w in arange(n):\n",
    "        img1=imread('Model/m'+str(sp+w)+'.png')*255 # find the mean for the gotten values\n",
    "        img1_ar=np.array(img1)\n",
    "        val = get_value(pl, img1_ar)\n",
    "        me.append(mean(val))        \n",
    "    return me\n",
    "\n",
    "def apply_mask(rad):\n",
    "    radi = []\n",
    "    for i in rad:\n",
    "        a = finding_mask(x,y,i,center) # finds mask for all radius values\n",
    "        radi.append(a)\n",
    "    return radi\n",
    "\n",
    "x, y = np.ogrid[:512, :512]\n",
    "center = [256, 256] # the first two are used for getting the mask. next one is to put all the radius values into one list.\n",
    "rads = [50, 100, 150, 200, 250]\n",
    "coef = [] # adds the coefficent\n",
    "\n",
    "rad = apply_mask(rads)\n",
    "\n",
    "q_score = pd.read_excel(\"Q_scores.xlsx\")\n",
    "score = q_score['Quality'] # gets the values of the quality scores to be used to find all the coefficients\n",
    "\n",
    "get_vals = finding_mask(x, y, 150, center)\n",
    "get_val = get_mean(get_vals) #gets the values for only the radius of 150\n",
    "\n",
    "for q in rad:\n",
    "    drawcircle= Circle((256,256), q, color='r', alpha=0.25)\n",
    "    me = get_mean(q)\n",
    "    s = stats.pearsonr(me, score)[0] #to plot the graph\n",
    "    coef.append(s)\n",
    "    me=[]        \n",
    "    \n",
    "\n",
    "print(\"Pearson linear correlation coefficient \", round(stats.pearsonr(get_val, score)[0],2))\n",
    "print(\"The r value shows that this is a strong postive correlation meaning that the higher the average pixel intensity the higher the overall image quality\")\n",
    "\n",
    "plt.plot(rads,np.round(coef,2), marker='o', color='r' ) # plotting the graph \n",
    "title(\"Analysis using mulitple radiuses\", fontsize = 16)\n",
    "ylabel(\"True image Quality\", fontsize = 14)\n",
    "xlabel(\"Average pixel intensity\",  fontsize = 14)\n",
    "plt.show()"
   ]
  },
  {
   "cell_type": "code",
   "execution_count": 6,
   "metadata": {
    "scrolled": false
   },
   "outputs": [
    {
     "name": "stdout",
     "output_type": "stream",
     "text": [
      "\n",
      "Regression model for IQ = 0.64*API-101.45\n",
      "MSE = 2.03\n",
      "\n"
     ]
    },
    {
     "data": {
      "text/html": [
       "<div>\n",
       "<style scoped>\n",
       "    .dataframe tbody tr th:only-of-type {\n",
       "        vertical-align: middle;\n",
       "    }\n",
       "\n",
       "    .dataframe tbody tr th {\n",
       "        vertical-align: top;\n",
       "    }\n",
       "\n",
       "    .dataframe thead th {\n",
       "        text-align: right;\n",
       "    }\n",
       "</style>\n",
       "<table border=\"1\" class=\"dataframe\">\n",
       "  <thead>\n",
       "    <tr style=\"text-align: right;\">\n",
       "      <th></th>\n",
       "      <th>Name</th>\n",
       "      <th>API</th>\n",
       "      <th>True IQ</th>\n",
       "      <th>Predicted IQ</th>\n",
       "    </tr>\n",
       "  </thead>\n",
       "  <tbody>\n",
       "    <tr>\n",
       "      <th>0</th>\n",
       "      <td>m3</td>\n",
       "      <td>166.22</td>\n",
       "      <td>8</td>\n",
       "      <td>5.74</td>\n",
       "    </tr>\n",
       "    <tr>\n",
       "      <th>1</th>\n",
       "      <td>m4</td>\n",
       "      <td>165.39</td>\n",
       "      <td>7</td>\n",
       "      <td>5.21</td>\n",
       "    </tr>\n",
       "    <tr>\n",
       "      <th>2</th>\n",
       "      <td>m9</td>\n",
       "      <td>162.93</td>\n",
       "      <td>2</td>\n",
       "      <td>3.62</td>\n",
       "    </tr>\n",
       "    <tr>\n",
       "      <th>3</th>\n",
       "      <td>m1</td>\n",
       "      <td>175.25</td>\n",
       "      <td>10</td>\n",
       "      <td>11.57</td>\n",
       "    </tr>\n",
       "    <tr>\n",
       "      <th>4</th>\n",
       "      <td>m10</td>\n",
       "      <td>161.12</td>\n",
       "      <td>1</td>\n",
       "      <td>2.45</td>\n",
       "    </tr>\n",
       "  </tbody>\n",
       "</table>\n",
       "</div>"
      ],
      "text/plain": [
       "  Name     API  True IQ  Predicted IQ\n",
       "0   m3  166.22        8          5.74\n",
       "1   m4  165.39        7          5.21\n",
       "2   m9  162.93        2          3.62\n",
       "3   m1  175.25       10         11.57\n",
       "4  m10  161.12        1          2.45"
      ]
     },
     "metadata": {},
     "output_type": "display_data"
    },
    {
     "name": "stdout",
     "output_type": "stream",
     "text": [
      "\n"
     ]
    },
    {
     "data": {
      "image/png": "[encoded data removed]",
      "text/plain": [
       "<Figure size 720x360 with 1 Axes>"
      ]
     },
     "metadata": {
      "needs_background": "light"
     },
     "output_type": "display_data"
    },
    {
     "name": "stdout",
     "output_type": "stream",
     "text": [
      "The two outliers i removed to get the lowest MSE is m3 and m4 this is shown on the graph\n"
     ]
    }
   ],
   "source": [
    "# CELL6 – 10 marks\n",
    "q_scores = pd.read_excel(\"./Q_scores.xlsx\") # reading the Quality scores\n",
    "IQ = q_scores['Quality']\n",
    "\n",
    "\n",
    "api= []\n",
    "n=10\n",
    "sp=1\n",
    "for w in arange(n):\n",
    "    img1=imread('Model/m'+str(sp+w)+'.png')*255 #get all image arrays\n",
    "    img1_ar=np.array(img1)\n",
    "    api.append(mean(img1_ar))\n",
    "\n",
    "\n",
    "\n",
    "API=sm.add_constant(api)\n",
    "resu = sm.OLS(IQ, API).fit() #getting slope and intercept\n",
    "slope = resu.params[1]\n",
    "intercept = resu.params[0]\n",
    " \n",
    "f = pd.DataFrame(data=api) #changing api into a dataframe so it can be used below\n",
    "\n",
    "pred_IQ=slope*f[0]+intercept\n",
    "aerror=abs(pred_IQ - IQ)\n",
    "MSE=mean(aerror**2)\n",
    "\n",
    "image_names = ['m1', 'm2', 'm3', 'm4', 'm5', 'm6', 'm7', 'm8', 'm9', 'm10'] # list of all names os img file\n",
    "for i in range(0, 10):\n",
    "    dist = pred_IQ - IQ\n",
    "    distance = abs(dist)\n",
    "table = list(zip(image_names, distance, api, IQ, pred_IQ )) #putting a set of list into a multidemsional list\n",
    "table = sorted(table, key=lambda x:-x[1]) #sorting into desending order using Lambda \n",
    "out=[]\n",
    "for i in range(0,5):\n",
    "    out.append(table[i]) # getting the first 5 elements from the table above\n",
    "tables= pd.DataFrame(out, columns=['Name', 'dist', 'API', 'True IQ', 'Predicted IQ']) #putting into a table\n",
    "tables = tables.drop(\"dist\", axis=1) # getting rid of the dist i used to find the worst outlier\n",
    "tables['API'] = tables['API'].astype(float).apply(lambda x: round(x,2))\n",
    "tables['Predicted IQ'] = tables['Predicted IQ'].astype(float).apply(lambda x: round(x,2))\n",
    "redu_table = list(zip(image_names, api, IQ))\n",
    "redu_table = pd.DataFrame(redu_table, columns=['Name', 'API', 'True IQ']) # second table with removed outliers\n",
    "\n",
    "redu_table = redu_table.set_index('Name')\n",
    "redu_table = redu_table.drop(['m3', 'm4'], axis=0)\n",
    "\n",
    "APIi=sm.add_constant(redu_table['API'])\n",
    "resul = sm.OLS(redu_table['True IQ'], APIi).fit() # creating second slope and intercept to make a scatter graph with the line of bitfit\n",
    "slope2 = resul.params[1]\n",
    "intercept2 = resul.params[0]\n",
    "data = pd.DataFrame(data=api)\n",
    "n_pred_IQ= slope2*redu_table['API']+intercept2\n",
    "aerror2=abs(n_pred_IQ - redu_table['True IQ'])\n",
    "\n",
    "print(\"\")\n",
    "print(\"Regression model for IQ = \" + str(round(slope,2)) + '*API' + str(round(intercept, 2)))\n",
    "print(\"MSE =\", round(MSE,2))\n",
    "print(\"\")\n",
    "display(tables)\n",
    "print(\"\")\n",
    "\n",
    "\n",
    "\n",
    "figure(figsize=(10,5))\n",
    "x_coor, y_coor= [166.21523,165.38919], [8,7]\n",
    "scatter(x_coor, y_coor, marker='o', color='g')\n",
    "text(x_coor[0],y_coor[0],'m3', color='g')\n",
    "text(x_coor[1],y_coor[1],'m4', color='g')\n",
    "title('Outliers removed Graph', fontsize=20) # Creating table\n",
    "xlabel('API', fontsize=20)\n",
    "ylabel('IQ', fontsize=20)\n",
    "scatter(redu_table['API'],redu_table['True IQ'], s=60, c='b', marker='o', edgecolors=None)\n",
    "\n",
    "line = slope2 * redu_table['API'] + intercept2\n",
    "plot(redu_table['API'], line,'b-', label='regression line', color='r')\n",
    "legend(loc='best', fontsize=20)\n",
    "\n",
    "show()\n",
    "\n",
    "print(\"The two outliers i removed to get the lowest MSE is m3 and m4 this is shown on the graph\")\n",
    "\n",
    "\n"
   ]
  },
  {
   "cell_type": "code",
   "execution_count": 7,
   "metadata": {},
   "outputs": [
    {
     "name": "stdout",
     "output_type": "stream",
     "text": [
      "1.6.2\n"
     ]
    }
   ],
   "source": [
    "import scipy\n",
    "print(scipy.__version__)"
   ]
  },
  {
   "cell_type": "code",
   "execution_count": null,
   "metadata": {},
   "outputs": [],
   "source": []
  }
 ],
 "metadata": {
  "kernelspec": {
   "display_name": "Python 3",
   "language": "python",
   "name": "python3"
  },
  "language_info": {
   "codemirror_mode": {
    "name": "ipython",
    "version": 3
   },
   "file_extension": ".py",
   "mimetype": "text/x-python",
   "name": "python",
   "nbconvert_exporter": "python",
   "pygments_lexer": "ipython3",
   "version": "3.8.8"
  }
 },
 "nbformat": 4,
 "nbformat_minor": 1
}
